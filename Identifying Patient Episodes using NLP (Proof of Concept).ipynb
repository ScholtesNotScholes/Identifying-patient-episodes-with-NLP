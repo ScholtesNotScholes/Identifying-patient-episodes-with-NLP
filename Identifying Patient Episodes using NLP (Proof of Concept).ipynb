{
 "cells": [
  {
   "cell_type": "markdown",
   "id": "eea55297-5dae-46ba-a195-0bd32706a499",
   "metadata": {},
   "source": [
    "# Import Libraries and Data"
   ]
  },
  {
   "cell_type": "code",
   "execution_count": 11,
   "id": "7f1508c0-3a45-42d8-852c-fb73da8cacd3",
   "metadata": {},
   "outputs": [],
   "source": [
    "import pandas as pd\n",
    "\n",
    "import nltk\n",
    "nltk.download(\"stopwords\", quiet=True)\n",
    "from nltk.corpus import stopwords\n",
    "from nltk.stem import PorterStemmer\n",
    "from nltk.metrics import jaccard_distance"
   ]
  },
  {
   "cell_type": "markdown",
   "id": "b539f128-7a02-4378-a2c7-14eb11a3d952",
   "metadata": {},
   "source": [
    "The data was taken from Kaggle: https://www.kaggle.com/datasets/rmisra/news-category-dataset?resource=download"
   ]
  },
  {
   "cell_type": "code",
   "execution_count": 2,
   "id": "6da9d301-458d-4932-b80d-ce66945eeffb",
   "metadata": {},
   "outputs": [],
   "source": [
    "df = pd.read_json(\"News_Category_Dataset_v3.json\", lines=True)"
   ]
  },
  {
   "cell_type": "code",
   "execution_count": 3,
   "id": "1e88bb91-9f16-4a3f-84c0-71991768ba39",
   "metadata": {},
   "outputs": [
    {
     "data": {
      "text/html": [
       "<div>\n",
       "<style scoped>\n",
       "    .dataframe tbody tr th:only-of-type {\n",
       "        vertical-align: middle;\n",
       "    }\n",
       "\n",
       "    .dataframe tbody tr th {\n",
       "        vertical-align: top;\n",
       "    }\n",
       "\n",
       "    .dataframe thead th {\n",
       "        text-align: right;\n",
       "    }\n",
       "</style>\n",
       "<table border=\"1\" class=\"dataframe\">\n",
       "  <thead>\n",
       "    <tr style=\"text-align: right;\">\n",
       "      <th></th>\n",
       "      <th>link</th>\n",
       "      <th>headline</th>\n",
       "      <th>category</th>\n",
       "      <th>short_description</th>\n",
       "      <th>authors</th>\n",
       "      <th>date</th>\n",
       "    </tr>\n",
       "  </thead>\n",
       "  <tbody>\n",
       "    <tr>\n",
       "      <th>0</th>\n",
       "      <td>https://www.huffpost.com/entry/covid-boosters-...</td>\n",
       "      <td>Over 4 Million Americans Roll Up Sleeves For O...</td>\n",
       "      <td>U.S. NEWS</td>\n",
       "      <td>Health experts said it is too early to predict...</td>\n",
       "      <td>Carla K. Johnson, AP</td>\n",
       "      <td>2022-09-23</td>\n",
       "    </tr>\n",
       "    <tr>\n",
       "      <th>1</th>\n",
       "      <td>https://www.huffpost.com/entry/american-airlin...</td>\n",
       "      <td>American Airlines Flyer Charged, Banned For Li...</td>\n",
       "      <td>U.S. NEWS</td>\n",
       "      <td>He was subdued by passengers and crew when he ...</td>\n",
       "      <td>Mary Papenfuss</td>\n",
       "      <td>2022-09-23</td>\n",
       "    </tr>\n",
       "    <tr>\n",
       "      <th>2</th>\n",
       "      <td>https://www.huffpost.com/entry/funniest-tweets...</td>\n",
       "      <td>23 Of The Funniest Tweets About Cats And Dogs ...</td>\n",
       "      <td>COMEDY</td>\n",
       "      <td>\"Until you have a dog you don't understand wha...</td>\n",
       "      <td>Elyse Wanshel</td>\n",
       "      <td>2022-09-23</td>\n",
       "    </tr>\n",
       "    <tr>\n",
       "      <th>3</th>\n",
       "      <td>https://www.huffpost.com/entry/funniest-parent...</td>\n",
       "      <td>The Funniest Tweets From Parents This Week (Se...</td>\n",
       "      <td>PARENTING</td>\n",
       "      <td>\"Accidentally put grown-up toothpaste on my to...</td>\n",
       "      <td>Caroline Bologna</td>\n",
       "      <td>2022-09-23</td>\n",
       "    </tr>\n",
       "    <tr>\n",
       "      <th>4</th>\n",
       "      <td>https://www.huffpost.com/entry/amy-cooper-lose...</td>\n",
       "      <td>Woman Who Called Cops On Black Bird-Watcher Lo...</td>\n",
       "      <td>U.S. NEWS</td>\n",
       "      <td>Amy Cooper accused investment firm Franklin Te...</td>\n",
       "      <td>Nina Golgowski</td>\n",
       "      <td>2022-09-22</td>\n",
       "    </tr>\n",
       "  </tbody>\n",
       "</table>\n",
       "</div>"
      ],
      "text/plain": [
       "                                                link  \\\n",
       "0  https://www.huffpost.com/entry/covid-boosters-...   \n",
       "1  https://www.huffpost.com/entry/american-airlin...   \n",
       "2  https://www.huffpost.com/entry/funniest-tweets...   \n",
       "3  https://www.huffpost.com/entry/funniest-parent...   \n",
       "4  https://www.huffpost.com/entry/amy-cooper-lose...   \n",
       "\n",
       "                                            headline   category  \\\n",
       "0  Over 4 Million Americans Roll Up Sleeves For O...  U.S. NEWS   \n",
       "1  American Airlines Flyer Charged, Banned For Li...  U.S. NEWS   \n",
       "2  23 Of The Funniest Tweets About Cats And Dogs ...     COMEDY   \n",
       "3  The Funniest Tweets From Parents This Week (Se...  PARENTING   \n",
       "4  Woman Who Called Cops On Black Bird-Watcher Lo...  U.S. NEWS   \n",
       "\n",
       "                                   short_description               authors  \\\n",
       "0  Health experts said it is too early to predict...  Carla K. Johnson, AP   \n",
       "1  He was subdued by passengers and crew when he ...        Mary Papenfuss   \n",
       "2  \"Until you have a dog you don't understand wha...         Elyse Wanshel   \n",
       "3  \"Accidentally put grown-up toothpaste on my to...      Caroline Bologna   \n",
       "4  Amy Cooper accused investment firm Franklin Te...        Nina Golgowski   \n",
       "\n",
       "        date  \n",
       "0 2022-09-23  \n",
       "1 2022-09-23  \n",
       "2 2022-09-23  \n",
       "3 2022-09-23  \n",
       "4 2022-09-22  "
      ]
     },
     "execution_count": 3,
     "metadata": {},
     "output_type": "execute_result"
    }
   ],
   "source": [
    "df.head()"
   ]
  },
  {
   "cell_type": "code",
   "execution_count": 4,
   "id": "8ad59097-84db-415f-835b-bbb870970cc3",
   "metadata": {},
   "outputs": [
    {
     "name": "stdout",
     "output_type": "stream",
     "text": [
      "<class 'pandas.core.frame.DataFrame'>\n",
      "RangeIndex: 209527 entries, 0 to 209526\n",
      "Data columns (total 6 columns):\n",
      " #   Column             Non-Null Count   Dtype         \n",
      "---  ------             --------------   -----         \n",
      " 0   link               209527 non-null  object        \n",
      " 1   headline           209527 non-null  object        \n",
      " 2   category           209527 non-null  object        \n",
      " 3   short_description  209527 non-null  object        \n",
      " 4   authors            209527 non-null  object        \n",
      " 5   date               209527 non-null  datetime64[ns]\n",
      "dtypes: datetime64[ns](1), object(5)\n",
      "memory usage: 9.6+ MB\n"
     ]
    }
   ],
   "source": [
    "df.info()"
   ]
  },
  {
   "cell_type": "markdown",
   "id": "c109ebd2-1b69-4446-b293-d8490245bbb5",
   "metadata": {},
   "source": [
    "# Concept\n",
    "\n",
    "Want to test if patient appointment notes can be linked as being in the same patient episode, meaning they are addressing the same problem. \n",
    "\n",
    "As a proof of concept, we will attempt to determine whether the `short_description` category in the news headline dataset can be grouped with headlines about similar things. We use descriptions instead of headlines because often headlines are not written in proper sentences and are written to grab the attention of the audience using jokes or puns."
   ]
  },
  {
   "cell_type": "markdown",
   "id": "6c6b4704-d6af-4172-8180-a3f2fb7cb601",
   "metadata": {},
   "source": [
    "Some examples of descriptions:"
   ]
  },
  {
   "cell_type": "code",
   "execution_count": 5,
   "id": "50b22fef-ebbb-4ff1-bc59-ebc7a10322af",
   "metadata": {},
   "outputs": [
    {
     "name": "stdout",
     "output_type": "stream",
     "text": [
      "Health experts said it is too early to predict whether demand would match up with the 171 million doses of the new boosters the U.S. ordered for the fall. \n",
      "\n",
      "He was subdued by passengers and crew when he fled to the back of the aircraft after the confrontation, according to the U.S. attorney's office in Los Angeles. \n",
      "\n",
      "\"Until you have a dog you don't understand what could be eaten.\" \n",
      "\n",
      "\"Accidentally put grown-up toothpaste on my toddler’s toothbrush and he screamed like I was cleaning his teeth with a Carolina Reaper dipped in Tabasco sauce.\" \n",
      "\n",
      "Amy Cooper accused investment firm Franklin Templeton of unfairly firing her and branding her a racist after video of the Central Park encounter went viral. \n",
      "\n"
     ]
    }
   ],
   "source": [
    "for i in range(5):\n",
    "    print(df[\"short_description\"][i], \"\\n\")"
   ]
  },
  {
   "cell_type": "markdown",
   "id": "dcfb086e-b662-4422-ac18-8ea3611a2e6e",
   "metadata": {},
   "source": [
    "The process we will use to compare descriptions is:\n",
    "\n",
    "1. Clean each description, such that we have comparable lists of words.\n",
    "2. For each description, we will compare it to the next five descriptions and calculate the similarity between them using Jaccard Distances. If the similarity exceeds a certain threshold then the two given descriptions will be considered as on the same topic and so will be assigned the same group ID.\n",
    "3. We add a column to the data containing the group ID for each row, so we can see the raw descriptions that were considered in the same group.\n",
    "\n",
    "We look at the next five descriptions because, going back to the patient appointment notes example, a patient episode will likely be uninterupted by many appointments about other issues, but of course this number can be adjusted."
   ]
  },
  {
   "cell_type": "markdown",
   "id": "e71b68f4-18b9-43ae-9fcb-7b5ad96eab00",
   "metadata": {},
   "source": [
    "First we define a function for cleaning raw strings and returning a list of comparable words:"
   ]
  },
  {
   "cell_type": "code",
   "execution_count": 6,
   "id": "b064dc8b-3c93-40b0-a4e9-18dd5e11babc",
   "metadata": {},
   "outputs": [],
   "source": [
    "stopwords = stopwords.words(\"english\")\n",
    "stemmer = PorterStemmer()\n",
    "\n",
    "def clean_text(text):\n",
    "    # Convert to lower case:\n",
    "    text = text.lower()\n",
    "    \n",
    "    # Split text into individual words:\n",
    "    words = nltk.word_tokenize(text)\n",
    "    \n",
    "    # Remove insignificant words (stopwords) and punctuation/numbers:\n",
    "    filtered_words = [word for word in words if word not in stopwords and word.isalpha()]\n",
    "    \n",
    "    # Stem words (e.g. milling becomes mill):\n",
    "    stemmed_words = [stemmer.stem(word) for word in filtered_words]\n",
    "\n",
    "    # Return as a set to remove duplicates:\n",
    "    return set(stemmed_words)"
   ]
  },
  {
   "cell_type": "markdown",
   "id": "7e8ac521-c4ad-4142-bf84-142b5dc9cebc",
   "metadata": {},
   "source": [
    "Next, we will generate a dictionary called `groups` which will contain each row index in the data as keys, and the group ID for each row as values.\n",
    "\n",
    "As discussed, it will compare each description to the next five descriptions and if the Jaccard Distance between two descriptions is below a certain threshold they will be assigned the same group ID."
   ]
  },
  {
   "cell_type": "code",
   "execution_count": 7,
   "id": "5ec6ef2b-c47c-452d-bc42-cb591ea0b14c",
   "metadata": {},
   "outputs": [
    {
     "name": "stdout",
     "output_type": "stream",
     "text": [
      "CPU times: total: 5.41 s\n",
      "Wall time: 5.44 s\n"
     ]
    }
   ],
   "source": [
    "%%time\n",
    "# For testing the concept, we only use a portion of the data\n",
    "df_test = df.head(1000).copy()\n",
    "\n",
    "# Initialise dictionary for groups, group ID counter, and a validation list of indexes already grouped:\n",
    "groups = {}\n",
    "current_group_id = 1\n",
    "grouped_indexes = []\n",
    "\n",
    "for index in df_test.index:\n",
    "    # Skip row if it has already been grouped with a previous row:\n",
    "    if index in grouped_indexes:\n",
    "        continue\n",
    "\n",
    "    groups[index] = current_group_id\n",
    "    grouped_indexes += [index]\n",
    "    current_text = clean_text(df_test.loc[index, \"short_description\"])\n",
    "\n",
    "    # Skip if row descriptions has no valid words:\n",
    "    if len(current_text) == 0:\n",
    "        continue\n",
    "\n",
    "    if index+5 < df_test.index.max():\n",
    "        for i,row in df_test.loc[index:index+6].iterrows():\n",
    "            if (i not in groups.keys()) & (jaccard_distance(current_text, clean_text(row[\"short_description\"])) < 0.9):\n",
    "                groups[i] = current_group_id\n",
    "                grouped_indexes += [i]\n",
    "\n",
    "    current_group_id += 1"
   ]
  },
  {
   "cell_type": "markdown",
   "id": "b45a8473-edd5-4d8b-9b5a-126a24a96383",
   "metadata": {},
   "source": [
    "Then, map the values from `groups` to the dataframe based on row indexes (keys):"
   ]
  },
  {
   "cell_type": "code",
   "execution_count": 8,
   "id": "7d1544f2-16ee-4b0e-b318-0c07ec38125e",
   "metadata": {},
   "outputs": [],
   "source": [
    "df_test[\"group_id\"] = df_test.index.map(groups)"
   ]
  },
  {
   "cell_type": "markdown",
   "id": "2067c94e-b9a4-4ad0-9ea5-d38435cc7aa0",
   "metadata": {},
   "source": [
    "Here are all rows where there are multiple rows in their group:"
   ]
  },
  {
   "cell_type": "code",
   "execution_count": 9,
   "id": "441fc3f1-e80e-478c-8a57-d877c593e365",
   "metadata": {},
   "outputs": [
    {
     "data": {
      "text/html": [
       "<div>\n",
       "<style scoped>\n",
       "    .dataframe tbody tr th:only-of-type {\n",
       "        vertical-align: middle;\n",
       "    }\n",
       "\n",
       "    .dataframe tbody tr th {\n",
       "        vertical-align: top;\n",
       "    }\n",
       "\n",
       "    .dataframe thead th {\n",
       "        text-align: right;\n",
       "    }\n",
       "</style>\n",
       "<table border=\"1\" class=\"dataframe\">\n",
       "  <thead>\n",
       "    <tr style=\"text-align: right;\">\n",
       "      <th></th>\n",
       "      <th>link</th>\n",
       "      <th>headline</th>\n",
       "      <th>category</th>\n",
       "      <th>short_description</th>\n",
       "      <th>authors</th>\n",
       "      <th>date</th>\n",
       "      <th>group_id</th>\n",
       "    </tr>\n",
       "  </thead>\n",
       "  <tbody>\n",
       "    <tr>\n",
       "      <th>19</th>\n",
       "      <td>https://www.huffpost.com/entry/hurricane-fiona...</td>\n",
       "      <td>Fiona Barrels Toward Turks And Caicos Islands ...</td>\n",
       "      <td>WORLD NEWS</td>\n",
       "      <td>The Turks and Caicos Islands government impose...</td>\n",
       "      <td>Dánica Coto, AP</td>\n",
       "      <td>2022-09-20</td>\n",
       "      <td>20</td>\n",
       "    </tr>\n",
       "    <tr>\n",
       "      <th>22</th>\n",
       "      <td>https://www.huffpost.com/entry/hurricane-fiona...</td>\n",
       "      <td>Hurricane Fiona Bears Down On Dominican Republ...</td>\n",
       "      <td>WORLD NEWS</td>\n",
       "      <td>The storm knocked out the power grid and unlea...</td>\n",
       "      <td>Danica Coto, AP</td>\n",
       "      <td>2022-09-19</td>\n",
       "      <td>20</td>\n",
       "    </tr>\n",
       "    <tr>\n",
       "      <th>27</th>\n",
       "      <td>https://www.huffpost.com/entry/queen-elizabeth...</td>\n",
       "      <td>World Leaders Pay Respects To Queen Elizabeth II</td>\n",
       "      <td>WORLD NEWS</td>\n",
       "      <td>President Joe Biden and first lady Jill Biden ...</td>\n",
       "      <td>Mike Corder, Jill Lawless and Danica Kirka, AP</td>\n",
       "      <td>2022-09-18</td>\n",
       "      <td>27</td>\n",
       "    </tr>\n",
       "    <tr>\n",
       "      <th>30</th>\n",
       "      <td>https://www.huffpost.com/entry/europe-britain-...</td>\n",
       "      <td>Biden Says Queen's Death Left 'Giant Hole' For...</td>\n",
       "      <td>POLITICS</td>\n",
       "      <td>U.S. President Joe Biden, in London for the fu...</td>\n",
       "      <td>Darlene Superville, AP</td>\n",
       "      <td>2022-09-18</td>\n",
       "      <td>27</td>\n",
       "    </tr>\n",
       "    <tr>\n",
       "      <th>105</th>\n",
       "      <td>https://www.huffpost.com/entry/bc-us-texas-sch...</td>\n",
       "      <td>Uvalde Fourth Graders Waited An Hour With Woun...</td>\n",
       "      <td>POLITICS</td>\n",
       "      <td>When Elsa Avila looks at the scar that runs do...</td>\n",
       "      <td>ACACIA CORONADO, AP</td>\n",
       "      <td>2022-09-05</td>\n",
       "      <td>104</td>\n",
       "    </tr>\n",
       "    <tr>\n",
       "      <th>...</th>\n",
       "      <td>...</td>\n",
       "      <td>...</td>\n",
       "      <td>...</td>\n",
       "      <td>...</td>\n",
       "      <td>...</td>\n",
       "      <td>...</td>\n",
       "      <td>...</td>\n",
       "    </tr>\n",
       "    <tr>\n",
       "      <th>938</th>\n",
       "      <td>https://www.huffpost.com/entry/amy-schumers-jo...</td>\n",
       "      <td>Amy Schumer’s Joke About Kirsten Dunst Being A...</td>\n",
       "      <td>ENTERTAINMENT</td>\n",
       "      <td>Chris Rock wasn’t the only comedian at the Aca...</td>\n",
       "      <td>Elyse Wanshel</td>\n",
       "      <td>2022-03-28</td>\n",
       "      <td>900</td>\n",
       "    </tr>\n",
       "    <tr>\n",
       "      <th>949</th>\n",
       "      <td>https://www.huffpost.com/entry/biden-poland-pu...</td>\n",
       "      <td>Biden On Putin: 'For God's Sake, This Man Cann...</td>\n",
       "      <td>WORLD NEWS</td>\n",
       "      <td>President Joe Biden visited Poland's capital o...</td>\n",
       "      <td>Chris Megerian and Vanessa Gera, AP</td>\n",
       "      <td>2022-03-26</td>\n",
       "      <td>915</td>\n",
       "    </tr>\n",
       "    <tr>\n",
       "      <th>955</th>\n",
       "      <td>https://www.huffpost.com/entry/biden-poland-uk...</td>\n",
       "      <td>60 Miles From Ukraine, Biden Sees Refugee Cris...</td>\n",
       "      <td>POLITICS</td>\n",
       "      <td>President Joe Biden paid tribute to Poland for...</td>\n",
       "      <td>CHRIS MEGERIAN and DARLENE SUPERVILLE, AP</td>\n",
       "      <td>2022-03-25</td>\n",
       "      <td>915</td>\n",
       "    </tr>\n",
       "    <tr>\n",
       "      <th>986</th>\n",
       "      <td>https://www.huffpost.com/entry/russia-ukraine-...</td>\n",
       "      <td>Russian Military Slog In Ukraine A ‘Dreadful M...</td>\n",
       "      <td>WORLD NEWS</td>\n",
       "      <td>More than three weeks into his invasion of Ukr...</td>\n",
       "      <td>Ellen Knickmeyer, AP</td>\n",
       "      <td>2022-03-20</td>\n",
       "      <td>951</td>\n",
       "    </tr>\n",
       "    <tr>\n",
       "      <th>992</th>\n",
       "      <td>https://www.huffpost.com/entry/putin-gnats-sta...</td>\n",
       "      <td>Putin Likens Opponents To 'Gnats,' Evoking Sta...</td>\n",
       "      <td>WORLD NEWS</td>\n",
       "      <td>Russian President Vladimir Putin used language...</td>\n",
       "      <td></td>\n",
       "      <td>2022-03-19</td>\n",
       "      <td>951</td>\n",
       "    </tr>\n",
       "  </tbody>\n",
       "</table>\n",
       "<p>74 rows × 7 columns</p>\n",
       "</div>"
      ],
      "text/plain": [
       "                                                  link  \\\n",
       "19   https://www.huffpost.com/entry/hurricane-fiona...   \n",
       "22   https://www.huffpost.com/entry/hurricane-fiona...   \n",
       "27   https://www.huffpost.com/entry/queen-elizabeth...   \n",
       "30   https://www.huffpost.com/entry/europe-britain-...   \n",
       "105  https://www.huffpost.com/entry/bc-us-texas-sch...   \n",
       "..                                                 ...   \n",
       "938  https://www.huffpost.com/entry/amy-schumers-jo...   \n",
       "949  https://www.huffpost.com/entry/biden-poland-pu...   \n",
       "955  https://www.huffpost.com/entry/biden-poland-uk...   \n",
       "986  https://www.huffpost.com/entry/russia-ukraine-...   \n",
       "992  https://www.huffpost.com/entry/putin-gnats-sta...   \n",
       "\n",
       "                                              headline       category  \\\n",
       "19   Fiona Barrels Toward Turks And Caicos Islands ...     WORLD NEWS   \n",
       "22   Hurricane Fiona Bears Down On Dominican Republ...     WORLD NEWS   \n",
       "27    World Leaders Pay Respects To Queen Elizabeth II     WORLD NEWS   \n",
       "30   Biden Says Queen's Death Left 'Giant Hole' For...       POLITICS   \n",
       "105  Uvalde Fourth Graders Waited An Hour With Woun...       POLITICS   \n",
       "..                                                 ...            ...   \n",
       "938  Amy Schumer’s Joke About Kirsten Dunst Being A...  ENTERTAINMENT   \n",
       "949  Biden On Putin: 'For God's Sake, This Man Cann...     WORLD NEWS   \n",
       "955  60 Miles From Ukraine, Biden Sees Refugee Cris...       POLITICS   \n",
       "986  Russian Military Slog In Ukraine A ‘Dreadful M...     WORLD NEWS   \n",
       "992  Putin Likens Opponents To 'Gnats,' Evoking Sta...     WORLD NEWS   \n",
       "\n",
       "                                     short_description  \\\n",
       "19   The Turks and Caicos Islands government impose...   \n",
       "22   The storm knocked out the power grid and unlea...   \n",
       "27   President Joe Biden and first lady Jill Biden ...   \n",
       "30   U.S. President Joe Biden, in London for the fu...   \n",
       "105  When Elsa Avila looks at the scar that runs do...   \n",
       "..                                                 ...   \n",
       "938  Chris Rock wasn’t the only comedian at the Aca...   \n",
       "949  President Joe Biden visited Poland's capital o...   \n",
       "955  President Joe Biden paid tribute to Poland for...   \n",
       "986  More than three weeks into his invasion of Ukr...   \n",
       "992  Russian President Vladimir Putin used language...   \n",
       "\n",
       "                                            authors       date  group_id  \n",
       "19                                  Dánica Coto, AP 2022-09-20        20  \n",
       "22                                  Danica Coto, AP 2022-09-19        20  \n",
       "27   Mike Corder, Jill Lawless and Danica Kirka, AP 2022-09-18        27  \n",
       "30                           Darlene Superville, AP 2022-09-18        27  \n",
       "105                             ACACIA CORONADO, AP 2022-09-05       104  \n",
       "..                                              ...        ...       ...  \n",
       "938                                   Elyse Wanshel 2022-03-28       900  \n",
       "949             Chris Megerian and Vanessa Gera, AP 2022-03-26       915  \n",
       "955       CHRIS MEGERIAN and DARLENE SUPERVILLE, AP 2022-03-25       915  \n",
       "986                            Ellen Knickmeyer, AP 2022-03-20       951  \n",
       "992                                                 2022-03-19       951  \n",
       "\n",
       "[74 rows x 7 columns]"
      ]
     },
     "execution_count": 9,
     "metadata": {},
     "output_type": "execute_result"
    }
   ],
   "source": [
    "df_test.groupby(\"group_id\").filter(lambda group: group.shape[0] > 1)"
   ]
  },
  {
   "cell_type": "markdown",
   "id": "9e72825d-0ad9-413c-90d4-212996042647",
   "metadata": {},
   "source": [
    "And an example of descriptions from a group:"
   ]
  },
  {
   "cell_type": "code",
   "execution_count": 10,
   "id": "5006ee5c-df0d-447b-9c42-680705c88e0c",
   "metadata": {},
   "outputs": [
    {
     "name": "stdout",
     "output_type": "stream",
     "text": [
      "The Turks and Caicos Islands government imposed a curfew as the intensifying storm kept dropping copious rain over the Dominican Republic and Puerto Rico. \n",
      "\n",
      "The storm knocked out the power grid and unleashed floods and landslides in Puerto Rico, where the governor said the damage was “catastrophic.” \n",
      "\n"
     ]
    }
   ],
   "source": [
    "for text in df_test.loc[(df_test[\"group_id\"] == 20), \"short_description\"]:\n",
    "    print(text, \"\\n\")"
   ]
  },
  {
   "cell_type": "markdown",
   "id": "0c4beb1f-4091-4731-bc0d-2518d1fd98c9",
   "metadata": {},
   "source": [
    "Clearly the process works as these two descriptions are definitely about the same thing.\n",
    "\n",
    "This has just been a proof of concept that a similar process could be applied to doctor's notes on patient appointments to identify patient episodes in data. Many of the parameters and decisions here were arbitrarily chosen to illustrate the process and can be much more refined and considered (e.g. the Jaccard Distance cutoff value, or the cleaning process to focus on more relevant vocabulary)."
   ]
  }
 ],
 "metadata": {
  "kernelspec": {
   "display_name": "Python 3 (ipykernel)",
   "language": "python",
   "name": "python3"
  },
  "language_info": {
   "codemirror_mode": {
    "name": "ipython",
    "version": 3
   },
   "file_extension": ".py",
   "mimetype": "text/x-python",
   "name": "python",
   "nbconvert_exporter": "python",
   "pygments_lexer": "ipython3",
   "version": "3.11.4"
  }
 },
 "nbformat": 4,
 "nbformat_minor": 5
}
